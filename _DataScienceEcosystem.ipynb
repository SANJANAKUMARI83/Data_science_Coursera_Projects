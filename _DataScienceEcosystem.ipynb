{
 "cells": [
  {
   "cell_type": "markdown",
   "id": "a07c34be",
   "metadata": {},
   "source": [
    "# Data Science Tools and Ecosystem\n",
    "## In this notebook, Data Science Tools and Ecosystem are summarized.\n"
   ]
  },
  {
   "cell_type": "markdown",
   "id": "b4c36104",
   "metadata": {},
   "source": [
    "### **Objectives:**\n",
    "- Popular languages that Data Scientists use\n",
    "- commonly used libraries used by Data Scientists \n",
    "- Arithmetic expressions in Python\n",
    "## Author \n",
    "Sanjana Kumari\n"
   ]
  },
  {
   "cell_type": "markdown",
   "id": "39f44377",
   "metadata": {},
   "source": [
    "Some of the popular languages that Data Scientists use are:"
   ]
  },
  {
   "cell_type": "markdown",
   "id": "7afbbf45",
   "metadata": {},
   "source": [
    "1. Python\n",
    "2. R\n",
    "3. Javascript \n",
    "4. Julia\n",
    "5. Scala\n",
    "6. Apache"
   ]
  },
  {
   "cell_type": "markdown",
   "id": "1e9d5e20",
   "metadata": {},
   "source": [
    "Some of the commonly used libraries used by Data Scientists include:\n",
    "1. Pandas\n",
    "2. Numpy\n",
    "3. Matplotlib\n",
    "4. Seaborn\n",
    "5. ggplot\n",
    "6. ggallery\n",
    "    "
   ]
  },
  {
   "cell_type": "markdown",
   "id": "3e485ea2",
   "metadata": {},
   "source": [
    "|Data Science Tools|\n",
    "|------------------|\n",
    "|Jupyter notebook|\n",
    "|Visual studio code|\n",
    "|Jupyter lab|"
   ]
  },
  {
   "cell_type": "markdown",
   "id": "01ee985d",
   "metadata": {},
   "source": [
    "### Below are a few examples of evaluating arithmetic expressions in Python"
   ]
  },
  {
   "cell_type": "markdown",
   "id": "7dd62f70",
   "metadata": {},
   "source": [
    "This a simple arithmetic expression to mutiply then add integers\n"
   ]
  },
  {
   "cell_type": "code",
   "execution_count": 5,
   "id": "2da1ac1f",
   "metadata": {},
   "outputs": [
    {
     "data": {
      "text/plain": [
       "17"
      ]
     },
     "execution_count": 5,
     "metadata": {},
     "output_type": "execute_result"
    }
   ],
   "source": [
    "(3*4)+5"
   ]
  },
  {
   "cell_type": "markdown",
   "id": "b09c8a60",
   "metadata": {},
   "source": [
    "This will convert 200 minutes to hours by diving by 60."
   ]
  },
  {
   "cell_type": "code",
   "execution_count": 7,
   "id": "7b9832c4",
   "metadata": {},
   "outputs": [
    {
     "data": {
      "text/plain": [
       "3.3333333333333335"
      ]
     },
     "execution_count": 7,
     "metadata": {},
     "output_type": "execute_result"
    }
   ],
   "source": [
    "(200/60)"
   ]
  },
  {
   "cell_type": "code",
   "execution_count": null,
   "id": "82f5c365",
   "metadata": {},
   "outputs": [],
   "source": []
  }
 ],
 "metadata": {
  "kernelspec": {
   "display_name": "Python 3 (ipykernel)",
   "language": "python",
   "name": "python3"
  },
  "language_info": {
   "codemirror_mode": {
    "name": "ipython",
    "version": 3
   },
   "file_extension": ".py",
   "mimetype": "text/x-python",
   "name": "python",
   "nbconvert_exporter": "python",
   "pygments_lexer": "ipython3",
   "version": "3.9.13"
  }
 },
 "nbformat": 4,
 "nbformat_minor": 5
}
