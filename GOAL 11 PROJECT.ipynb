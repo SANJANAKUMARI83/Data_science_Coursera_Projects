{
 "cells": [
  {
   "cell_type": "code",
   "execution_count": 141,
   "id": "05e73ef9",
   "metadata": {},
   "outputs": [],
   "source": [
    "import numpy as np\n",
    "import pandas as pd\n",
    "import matplotlib.pyplot as plt\n",
    "# importing the libraries"
   ]
  },
  {
   "cell_type": "code",
   "execution_count": 142,
   "id": "ca3f5044",
   "metadata": {},
   "outputs": [],
   "source": [
    "df = pd.read_excel(\"C:\\\\Users\\\\user\\\\Downloads\\\\Level1_ds_dataset.xlsx\")\n",
    "# reading from Excel sheets"
   ]
  },
  {
   "cell_type": "code",
   "execution_count": 143,
   "id": "9e92d884",
   "metadata": {},
   "outputs": [
    {
     "data": {
      "text/html": [
       "<div>\n",
       "<style scoped>\n",
       "    .dataframe tbody tr th:only-of-type {\n",
       "        vertical-align: middle;\n",
       "    }\n",
       "\n",
       "    .dataframe tbody tr th {\n",
       "        vertical-align: top;\n",
       "    }\n",
       "\n",
       "    .dataframe thead th {\n",
       "        text-align: right;\n",
       "    }\n",
       "</style>\n",
       "<table border=\"1\" class=\"dataframe\">\n",
       "  <thead>\n",
       "    <tr style=\"text-align: right;\">\n",
       "      <th></th>\n",
       "      <th>transaction_id</th>\n",
       "      <th>sender_id</th>\n",
       "      <th>receiver_id</th>\n",
       "      <th>transaction_date</th>\n",
       "      <th>amount</th>\n",
       "      <th>dist_trx</th>\n",
       "      <th>fraud_flag</th>\n",
       "      <th>customer_name</th>\n",
       "      <th>age</th>\n",
       "      <th>residence_state</th>\n",
       "      <th>gender</th>\n",
       "    </tr>\n",
       "  </thead>\n",
       "  <tbody>\n",
       "    <tr>\n",
       "      <th>0</th>\n",
       "      <td>1</td>\n",
       "      <td>31</td>\n",
       "      <td>240</td>\n",
       "      <td>2021-09-26</td>\n",
       "      <td>22.2</td>\n",
       "      <td>248.6</td>\n",
       "      <td>0</td>\n",
       "      <td>gulshan</td>\n",
       "      <td>54</td>\n",
       "      <td>Haryana</td>\n",
       "      <td>M</td>\n",
       "    </tr>\n",
       "    <tr>\n",
       "      <th>1</th>\n",
       "      <td>2</td>\n",
       "      <td>859</td>\n",
       "      <td>331</td>\n",
       "      <td>2021-09-28</td>\n",
       "      <td>601.1</td>\n",
       "      <td>352.9</td>\n",
       "      <td>0</td>\n",
       "      <td>deepu</td>\n",
       "      <td>45</td>\n",
       "      <td>Punjab</td>\n",
       "      <td>M</td>\n",
       "    </tr>\n",
       "    <tr>\n",
       "      <th>2</th>\n",
       "      <td>3</td>\n",
       "      <td>684</td>\n",
       "      <td>415</td>\n",
       "      <td>2021-08-23</td>\n",
       "      <td>533.8</td>\n",
       "      <td>89.0</td>\n",
       "      <td>0</td>\n",
       "      <td>vishal</td>\n",
       "      <td>34</td>\n",
       "      <td>Punjab</td>\n",
       "      <td>M</td>\n",
       "    </tr>\n",
       "    <tr>\n",
       "      <th>3</th>\n",
       "      <td>4</td>\n",
       "      <td>999</td>\n",
       "      <td>845</td>\n",
       "      <td>2021-10-24</td>\n",
       "      <td>207.3</td>\n",
       "      <td>410.6</td>\n",
       "      <td>0</td>\n",
       "      <td>chain singh @ ravi</td>\n",
       "      <td>34</td>\n",
       "      <td>Punjab</td>\n",
       "      <td>M</td>\n",
       "    </tr>\n",
       "    <tr>\n",
       "      <th>4</th>\n",
       "      <td>5</td>\n",
       "      <td>163</td>\n",
       "      <td>830</td>\n",
       "      <td>2021-09-15</td>\n",
       "      <td>231.0</td>\n",
       "      <td>168.4</td>\n",
       "      <td>0</td>\n",
       "      <td>axat</td>\n",
       "      <td>27</td>\n",
       "      <td>Punjab</td>\n",
       "      <td>M</td>\n",
       "    </tr>\n",
       "    <tr>\n",
       "      <th>5</th>\n",
       "      <td>6</td>\n",
       "      <td>726</td>\n",
       "      <td>150</td>\n",
       "      <td>2021-08-15</td>\n",
       "      <td>346.8</td>\n",
       "      <td>146.1</td>\n",
       "      <td>0</td>\n",
       "      <td>ankit tiwari</td>\n",
       "      <td>60</td>\n",
       "      <td>Punjab</td>\n",
       "      <td>F</td>\n",
       "    </tr>\n",
       "    <tr>\n",
       "      <th>6</th>\n",
       "      <td>7</td>\n",
       "      <td>559</td>\n",
       "      <td>50</td>\n",
       "      <td>2021-08-02</td>\n",
       "      <td>421.5</td>\n",
       "      <td>140.5</td>\n",
       "      <td>0</td>\n",
       "      <td>pawan</td>\n",
       "      <td>37</td>\n",
       "      <td>Punjab</td>\n",
       "      <td>M</td>\n",
       "    </tr>\n",
       "    <tr>\n",
       "      <th>7</th>\n",
       "      <td>8</td>\n",
       "      <td>154</td>\n",
       "      <td>150</td>\n",
       "      <td>2021-08-01</td>\n",
       "      <td>451.5</td>\n",
       "      <td>18.0</td>\n",
       "      <td>0</td>\n",
       "      <td>mayank chaudhary @ rahul</td>\n",
       "      <td>26</td>\n",
       "      <td>Punjab</td>\n",
       "      <td>F</td>\n",
       "    </tr>\n",
       "    <tr>\n",
       "      <th>8</th>\n",
       "      <td>9</td>\n",
       "      <td>289</td>\n",
       "      <td>953</td>\n",
       "      <td>2021-09-15</td>\n",
       "      <td>696.6</td>\n",
       "      <td>99.3</td>\n",
       "      <td>0</td>\n",
       "      <td>sagar</td>\n",
       "      <td>30</td>\n",
       "      <td>Haryana</td>\n",
       "      <td>F</td>\n",
       "    </tr>\n",
       "    <tr>\n",
       "      <th>9</th>\n",
       "      <td>10</td>\n",
       "      <td>289</td>\n",
       "      <td>18</td>\n",
       "      <td>2021-10-19</td>\n",
       "      <td>35.5</td>\n",
       "      <td>61.4</td>\n",
       "      <td>0</td>\n",
       "      <td>sagar</td>\n",
       "      <td>30</td>\n",
       "      <td>Haryana</td>\n",
       "      <td>F</td>\n",
       "    </tr>\n",
       "  </tbody>\n",
       "</table>\n",
       "</div>"
      ],
      "text/plain": [
       "   transaction_id  sender_id  receiver_id transaction_date  amount  dist_trx  \\\n",
       "0               1         31          240       2021-09-26    22.2     248.6   \n",
       "1               2        859          331       2021-09-28   601.1     352.9   \n",
       "2               3        684          415       2021-08-23   533.8      89.0   \n",
       "3               4        999          845       2021-10-24   207.3     410.6   \n",
       "4               5        163          830       2021-09-15   231.0     168.4   \n",
       "5               6        726          150       2021-08-15   346.8     146.1   \n",
       "6               7        559           50       2021-08-02   421.5     140.5   \n",
       "7               8        154          150       2021-08-01   451.5      18.0   \n",
       "8               9        289          953       2021-09-15   696.6      99.3   \n",
       "9              10        289           18       2021-10-19    35.5      61.4   \n",
       "\n",
       "   fraud_flag             customer_name  age residence_state gender  \n",
       "0           0                   gulshan   54         Haryana      M  \n",
       "1           0                     deepu   45          Punjab      M  \n",
       "2           0                    vishal   34          Punjab      M  \n",
       "3           0        chain singh @ ravi   34          Punjab      M  \n",
       "4           0                      axat   27          Punjab      M  \n",
       "5           0              ankit tiwari   60          Punjab      F  \n",
       "6           0                     pawan   37          Punjab      M  \n",
       "7           0  mayank chaudhary @ rahul   26          Punjab      F  \n",
       "8           0                     sagar   30         Haryana      F  \n",
       "9           0                     sagar   30         Haryana      F  "
      ]
     },
     "execution_count": 143,
     "metadata": {},
     "output_type": "execute_result"
    }
   ],
   "source": [
    "df.head(10)\n",
    "# checking out the first 10 rows of our dataframe using the head method."
   ]
  },
  {
   "cell_type": "code",
   "execution_count": 144,
   "id": "f211702f",
   "metadata": {},
   "outputs": [
    {
     "name": "stdout",
     "output_type": "stream",
     "text": [
      "<class 'pandas.core.frame.DataFrame'>\n",
      "RangeIndex: 4000 entries, 0 to 3999\n",
      "Data columns (total 11 columns):\n",
      " #   Column            Non-Null Count  Dtype         \n",
      "---  ------            --------------  -----         \n",
      " 0   transaction_id    4000 non-null   int64         \n",
      " 1   sender_id         4000 non-null   int64         \n",
      " 2   receiver_id       4000 non-null   int64         \n",
      " 3   transaction_date  4000 non-null   datetime64[ns]\n",
      " 4   amount            4000 non-null   float64       \n",
      " 5   dist_trx          4000 non-null   float64       \n",
      " 6   fraud_flag        4000 non-null   int64         \n",
      " 7   customer_name     4000 non-null   object        \n",
      " 8   age               4000 non-null   int64         \n",
      " 9   residence_state   4000 non-null   object        \n",
      " 10  gender            4000 non-null   object        \n",
      "dtypes: datetime64[ns](1), float64(2), int64(5), object(3)\n",
      "memory usage: 343.9+ KB\n"
     ]
    }
   ],
   "source": [
    "df.info()\n",
    "# getting some information about dataframe using info method"
   ]
  },
  {
   "cell_type": "code",
   "execution_count": 145,
   "id": "b2682c86",
   "metadata": {},
   "outputs": [
    {
     "data": {
      "text/html": [
       "<div>\n",
       "<style scoped>\n",
       "    .dataframe tbody tr th:only-of-type {\n",
       "        vertical-align: middle;\n",
       "    }\n",
       "\n",
       "    .dataframe tbody tr th {\n",
       "        vertical-align: top;\n",
       "    }\n",
       "\n",
       "    .dataframe thead th {\n",
       "        text-align: right;\n",
       "    }\n",
       "</style>\n",
       "<table border=\"1\" class=\"dataframe\">\n",
       "  <thead>\n",
       "    <tr style=\"text-align: right;\">\n",
       "      <th></th>\n",
       "      <th>transaction_id</th>\n",
       "      <th>sender_id</th>\n",
       "      <th>receiver_id</th>\n",
       "      <th>amount</th>\n",
       "      <th>dist_trx</th>\n",
       "      <th>fraud_flag</th>\n",
       "      <th>age</th>\n",
       "    </tr>\n",
       "  </thead>\n",
       "  <tbody>\n",
       "    <tr>\n",
       "      <th>count</th>\n",
       "      <td>4000.000000</td>\n",
       "      <td>4000.000000</td>\n",
       "      <td>4000.000000</td>\n",
       "      <td>4000.000000</td>\n",
       "      <td>4000.000000</td>\n",
       "      <td>4000.000000</td>\n",
       "      <td>4000.000000</td>\n",
       "    </tr>\n",
       "    <tr>\n",
       "      <th>mean</th>\n",
       "      <td>2000.500000</td>\n",
       "      <td>507.693000</td>\n",
       "      <td>507.138750</td>\n",
       "      <td>505.738625</td>\n",
       "      <td>254.370925</td>\n",
       "      <td>0.033250</td>\n",
       "      <td>39.629250</td>\n",
       "    </tr>\n",
       "    <tr>\n",
       "      <th>std</th>\n",
       "      <td>1154.844867</td>\n",
       "      <td>288.938546</td>\n",
       "      <td>287.260924</td>\n",
       "      <td>287.769937</td>\n",
       "      <td>143.127277</td>\n",
       "      <td>0.179311</td>\n",
       "      <td>11.975502</td>\n",
       "    </tr>\n",
       "    <tr>\n",
       "      <th>min</th>\n",
       "      <td>1.000000</td>\n",
       "      <td>1.000000</td>\n",
       "      <td>1.000000</td>\n",
       "      <td>1.100000</td>\n",
       "      <td>1.000000</td>\n",
       "      <td>0.000000</td>\n",
       "      <td>20.000000</td>\n",
       "    </tr>\n",
       "    <tr>\n",
       "      <th>25%</th>\n",
       "      <td>1000.750000</td>\n",
       "      <td>261.000000</td>\n",
       "      <td>262.000000</td>\n",
       "      <td>254.700000</td>\n",
       "      <td>128.975000</td>\n",
       "      <td>0.000000</td>\n",
       "      <td>29.000000</td>\n",
       "    </tr>\n",
       "    <tr>\n",
       "      <th>50%</th>\n",
       "      <td>2000.500000</td>\n",
       "      <td>510.500000</td>\n",
       "      <td>507.000000</td>\n",
       "      <td>511.500000</td>\n",
       "      <td>256.600000</td>\n",
       "      <td>0.000000</td>\n",
       "      <td>40.000000</td>\n",
       "    </tr>\n",
       "    <tr>\n",
       "      <th>75%</th>\n",
       "      <td>3000.250000</td>\n",
       "      <td>757.000000</td>\n",
       "      <td>756.000000</td>\n",
       "      <td>757.000000</td>\n",
       "      <td>377.425000</td>\n",
       "      <td>0.000000</td>\n",
       "      <td>50.000000</td>\n",
       "    </tr>\n",
       "    <tr>\n",
       "      <th>max</th>\n",
       "      <td>4000.000000</td>\n",
       "      <td>1000.000000</td>\n",
       "      <td>1000.000000</td>\n",
       "      <td>999.700000</td>\n",
       "      <td>499.900000</td>\n",
       "      <td>1.000000</td>\n",
       "      <td>60.000000</td>\n",
       "    </tr>\n",
       "  </tbody>\n",
       "</table>\n",
       "</div>"
      ],
      "text/plain": [
       "       transaction_id    sender_id  receiver_id       amount     dist_trx  \\\n",
       "count     4000.000000  4000.000000  4000.000000  4000.000000  4000.000000   \n",
       "mean      2000.500000   507.693000   507.138750   505.738625   254.370925   \n",
       "std       1154.844867   288.938546   287.260924   287.769937   143.127277   \n",
       "min          1.000000     1.000000     1.000000     1.100000     1.000000   \n",
       "25%       1000.750000   261.000000   262.000000   254.700000   128.975000   \n",
       "50%       2000.500000   510.500000   507.000000   511.500000   256.600000   \n",
       "75%       3000.250000   757.000000   756.000000   757.000000   377.425000   \n",
       "max       4000.000000  1000.000000  1000.000000   999.700000   499.900000   \n",
       "\n",
       "        fraud_flag          age  \n",
       "count  4000.000000  4000.000000  \n",
       "mean      0.033250    39.629250  \n",
       "std       0.179311    11.975502  \n",
       "min       0.000000    20.000000  \n",
       "25%       0.000000    29.000000  \n",
       "50%       0.000000    40.000000  \n",
       "75%       0.000000    50.000000  \n",
       "max       1.000000    60.000000  "
      ]
     },
     "execution_count": 145,
     "metadata": {},
     "output_type": "execute_result"
    }
   ],
   "source": [
    "\n",
    "df.describe()\n",
    "\n",
    "# getting some information about dataframe using describe method"
   ]
  },
  {
   "cell_type": "code",
   "execution_count": 146,
   "id": "c0a94a39",
   "metadata": {},
   "outputs": [],
   "source": [
    "X= df.iloc[:,[4,5]].to_numpy()\n",
    "Y= df.iloc[:,6].to_numpy()\n",
    "\n",
    "\n",
    "#  accessing data with a certain index position\n",
    "# here, we are accesing the columns conataining data of amount, dist_trx, fraud_flag and assign them as X and Y according to the problem statement"
   ]
  },
  {
   "cell_type": "code",
   "execution_count": 147,
   "id": "ecf0bc96",
   "metadata": {},
   "outputs": [],
   "source": [
    "from sklearn.model_selection import train_test_split\n",
    "# Using train test split method to split our dataset\n",
    "X_train, X_test, y_train, y_test = train_test_split(X,Y,train_size=0.8)\n",
    "# Setting test and train size of the model"
   ]
  },
  {
   "cell_type": "code",
   "execution_count": 148,
   "id": "6784c1c4",
   "metadata": {},
   "outputs": [
    {
     "data": {
      "text/plain": [
       "array([[387.8, 326. ],\n",
       "       [378.9, 356.4],\n",
       "       [880.7, 313.6],\n",
       "       ...,\n",
       "       [ 88.6, 430.8],\n",
       "       [421.1, 164.7],\n",
       "       [ 85.8, 310.9]])"
      ]
     },
     "execution_count": 148,
     "metadata": {},
     "output_type": "execute_result"
    }
   ],
   "source": [
    "X_test\n",
    "# here, X is multi-dimensional array\n",
    "# we're going to perform our test on:"
   ]
  },
  {
   "cell_type": "code",
   "execution_count": 149,
   "id": "84972f2f",
   "metadata": {},
   "outputs": [
    {
     "data": {
      "text/plain": [
       "LogisticRegression()"
      ]
     },
     "execution_count": 149,
     "metadata": {},
     "output_type": "execute_result"
    }
   ],
   "source": [
    "from sklearn.linear_model import LogisticRegression\n",
    "# import LogisticRegression\n",
    "model = LogisticRegression()\n",
    "# create an object called model\n",
    "model.fit(X_train, y_train)\n",
    "# Training the model"
   ]
  },
  {
   "cell_type": "code",
   "execution_count": 150,
   "id": "c40ccd51",
   "metadata": {},
   "outputs": [
    {
     "data": {
      "text/plain": [
       "array([0, 0, 0, 0, 0, 0, 0, 0, 0, 0, 0, 0, 0, 0, 0, 0, 0, 0, 0, 0, 0, 0,\n",
       "       0, 0, 0, 0, 0, 0, 0, 0, 0, 0, 0, 0, 0, 0, 0, 0, 1, 0, 0, 0, 0, 0,\n",
       "       0, 0, 0, 0, 0, 0, 0, 0, 0, 0, 0, 0, 0, 0, 0, 0, 0, 0, 0, 0, 0, 0,\n",
       "       0, 0, 0, 0, 0, 0, 0, 0, 0, 0, 0, 0, 0, 0, 0, 0, 0, 0, 0, 0, 0, 0,\n",
       "       0, 0, 0, 0, 0, 0, 0, 0, 0, 0, 0, 0, 0, 0, 0, 0, 0, 0, 0, 0, 0, 0,\n",
       "       0, 0, 0, 0, 0, 0, 0, 0, 0, 0, 0, 0, 0, 0, 0, 0, 0, 0, 0, 0, 0, 0,\n",
       "       0, 0, 0, 0, 0, 0, 0, 0, 0, 0, 1, 0, 0, 0, 0, 0, 0, 0, 0, 0, 0, 0,\n",
       "       0, 0, 0, 0, 0, 0, 0, 0, 0, 0, 0, 0, 0, 0, 0, 0, 0, 0, 0, 0, 1, 0,\n",
       "       0, 0, 0, 0, 0, 0, 0, 0, 0, 0, 0, 0, 0, 0, 0, 0, 0, 0, 0, 0, 0, 0,\n",
       "       0, 0, 0, 0, 0, 0, 0, 0, 0, 1, 0, 0, 0, 0, 0, 0, 0, 0, 0, 0, 0, 0,\n",
       "       0, 0, 0, 0, 0, 0, 0, 0, 0, 1, 0, 0, 0, 0, 0, 0, 0, 0, 0, 0, 0, 0,\n",
       "       0, 0, 0, 0, 0, 0, 0, 0, 0, 0, 0, 0, 0, 0, 0, 1, 0, 0, 0, 0, 0, 0,\n",
       "       0, 0, 0, 0, 0, 0, 0, 0, 0, 0, 0, 0, 0, 0, 0, 1, 0, 0, 0, 0, 0, 0,\n",
       "       0, 0, 0, 0, 0, 0, 0, 0, 0, 0, 0, 0, 0, 0, 0, 0, 0, 0, 0, 0, 0, 0,\n",
       "       0, 0, 0, 0, 0, 0, 0, 0, 0, 1, 0, 0, 0, 0, 0, 0, 0, 1, 0, 0, 0, 0,\n",
       "       0, 0, 0, 0, 0, 0, 0, 0, 0, 0, 0, 0, 0, 0, 0, 0, 0, 0, 0, 0, 0, 0,\n",
       "       0, 0, 0, 0, 0, 0, 0, 0, 0, 0, 0, 0, 0, 0, 0, 1, 0, 0, 0, 0, 0, 0,\n",
       "       0, 0, 0, 0, 0, 0, 0, 0, 0, 0, 0, 0, 0, 0, 0, 0, 0, 0, 0, 0, 1, 0,\n",
       "       0, 0, 0, 0, 0, 0, 0, 0, 0, 0, 0, 0, 0, 0, 0, 0, 0, 0, 0, 0, 0, 0,\n",
       "       0, 0, 0, 0, 0, 0, 0, 0, 0, 0, 0, 0, 1, 0, 0, 0, 0, 0, 0, 0, 0, 1,\n",
       "       0, 0, 0, 0, 0, 0, 0, 0, 0, 0, 0, 0, 0, 0, 0, 0, 0, 0, 0, 0, 0, 0,\n",
       "       0, 0, 0, 0, 0, 0, 0, 0, 0, 0, 0, 0, 0, 1, 0, 0, 0, 0, 0, 0, 0, 0,\n",
       "       0, 0, 0, 0, 0, 0, 0, 0, 0, 0, 0, 0, 0, 0, 0, 0, 0, 0, 0, 0, 0, 0,\n",
       "       0, 0, 0, 0, 0, 0, 0, 0, 0, 0, 0, 1, 0, 0, 0, 0, 0, 0, 0, 0, 0, 0,\n",
       "       0, 0, 0, 1, 0, 0, 0, 0, 0, 0, 0, 0, 0, 0, 0, 0, 0, 0, 0, 0, 0, 0,\n",
       "       0, 0, 0, 0, 0, 0, 0, 0, 0, 0, 0, 0, 0, 0, 0, 0, 0, 0, 0, 0, 0, 0,\n",
       "       0, 1, 0, 0, 0, 0, 0, 1, 0, 0, 0, 0, 0, 0, 0, 0, 0, 0, 1, 0, 0, 0,\n",
       "       1, 0, 0, 0, 0, 0, 0, 0, 0, 0, 0, 0, 0, 0, 0, 0, 0, 0, 0, 0, 0, 0,\n",
       "       0, 0, 0, 0, 0, 0, 0, 0, 0, 0, 0, 0, 0, 0, 0, 0, 0, 0, 0, 0, 0, 0,\n",
       "       0, 0, 0, 0, 0, 0, 0, 0, 0, 0, 0, 0, 0, 0, 0, 0, 0, 0, 0, 0, 0, 0,\n",
       "       0, 0, 0, 0, 0, 0, 0, 0, 0, 0, 0, 0, 1, 0, 0, 0, 0, 0, 0, 0, 0, 0,\n",
       "       0, 0, 0, 0, 0, 0, 0, 0, 0, 0, 0, 0, 1, 0, 0, 0, 0, 0, 0, 0, 0, 0,\n",
       "       0, 0, 0, 0, 0, 0, 0, 0, 0, 0, 0, 0, 1, 0, 0, 0, 0, 0, 0, 1, 0, 0,\n",
       "       0, 0, 0, 0, 0, 0, 0, 0, 0, 0, 0, 0, 0, 0, 0, 0, 0, 0, 0, 0, 0, 0,\n",
       "       0, 0, 0, 0, 0, 0, 0, 0, 0, 0, 0, 0, 0, 0, 0, 0, 0, 0, 0, 0, 0, 0,\n",
       "       0, 0, 0, 0, 0, 0, 0, 0, 0, 0, 0, 0, 0, 0, 0, 0, 0, 0, 0, 0, 0, 0,\n",
       "       0, 0, 0, 0, 0, 0, 0, 0], dtype=int64)"
      ]
     },
     "execution_count": 150,
     "metadata": {},
     "output_type": "execute_result"
    }
   ],
   "source": [
    "model.predict(X_test)\n",
    "# making preictions for test values\n",
    "\n"
   ]
  },
  {
   "cell_type": "markdown",
   "id": "a4ae7ef2",
   "metadata": {},
   "source": []
  },
  {
   "cell_type": "code",
   "execution_count": 151,
   "id": "40bf1ca0",
   "metadata": {},
   "outputs": [
    {
     "data": {
      "text/plain": [
       "0.98375"
      ]
     },
     "execution_count": 151,
     "metadata": {},
     "output_type": "execute_result"
    }
   ],
   "source": [
    "model.score(X_test,y_test)\n",
    "# Testing accuracy of the model."
   ]
  },
  {
   "cell_type": "code",
   "execution_count": 152,
   "id": "bc96785f",
   "metadata": {},
   "outputs": [
    {
     "data": {
      "text/plain": [
       "array([1], dtype=int64)"
      ]
     },
     "execution_count": 152,
     "metadata": {},
     "output_type": "execute_result"
    }
   ],
   "source": [
    "model.predict([[10000000,10000]])\n",
    "# Predicting whether it is  fraud tansaction or not."
   ]
  },
  {
   "cell_type": "code",
   "execution_count": 153,
   "id": "1a9807a4",
   "metadata": {},
   "outputs": [
    {
     "data": {
      "image/png": "[encoded data removed]",
      "text/plain": [
       "<Figure size 640x480 with 2 Axes>"
      ]
     },
     "metadata": {},
     "output_type": "display_data"
    }
   ],
   "source": [
    "import numpy\n",
    "from sklearn import metrics\n",
    "#  import metrics from the sklearn module.\n",
    "\n",
    "\n",
    "# generate the numbers for \"actual\" and \"predicted\" values.\n",
    "actual = numpy.random.binomial(1,.9,size = 1000)\n",
    "predicted = numpy.random.binomial(1,.9,size = 1000)\n",
    "\n",
    "# use the confusion matrix function on our actual and predicted values.\n",
    "confusion_matrix = metrics.confusion_matrix(actual, predicted)\n",
    "\n",
    "# convert the table into a confusion matrix display.\n",
    "cm_display = metrics.ConfusionMatrixDisplay(confusion_matrix = confusion_matrix, display_labels = [False, True])\n",
    "\n",
    "# Finally to display the plot we can use the functions plot() and show() from pyplot.\n",
    "cm_display.plot()\n",
    "plt.show()\n"
   ]
  },
  {
   "cell_type": "markdown",
   "id": "5ba6cde9",
   "metadata": {},
   "source": [
    " That's it and we're done with GAOL 11\n",
    "    \n",
    "    "
   ]
  }
 ],
 "metadata": {
  "kernelspec": {
   "display_name": "Python 3 (ipykernel)",
   "language": "python",
   "name": "python3"
  },
  "language_info": {
   "codemirror_mode": {
    "name": "ipython",
    "version": 3
   },
   "file_extension": ".py",
   "mimetype": "text/x-python",
   "name": "python",
   "nbconvert_exporter": "python",
   "pygments_lexer": "ipython3",
   "version": "3.9.13"
  }
 },
 "nbformat": 4,
 "nbformat_minor": 5
}
